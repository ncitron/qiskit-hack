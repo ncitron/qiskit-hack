{
 "cells": [
  {
   "cell_type": "code",
   "execution_count": 1,
   "metadata": {},
   "outputs": [],
   "source": [
    "from random import randint"
   ]
  },
  {
   "cell_type": "code",
   "execution_count": 46,
   "metadata": {},
   "outputs": [],
   "source": [
    "class Board:\n",
    "    def place(self):\n",
    "        arr = []\n",
    "        for i in range(100):\n",
    "            arr.append(0)\n",
    "        arr = self.ship(arr, 5)\n",
    "        arr = self.ship(arr, 4)\n",
    "        arr = self.ship(arr, 3)\n",
    "        arr = self.ship(arr, 3)\n",
    "        arr = self.ship(arr, 2)        \n",
    "        return arr\n",
    "        \n",
    "    def ship(self, array, length):\n",
    "        nope = True\n",
    "        while nope:\n",
    "            head = randint(0, 99)\n",
    "            orient = randint(0, 3)\n",
    "            truf = self.check(head, length, orient, array)\n",
    "            nope = not truf\n",
    "        array = self.put(head, length, orient, array)\n",
    "        print(orient)\n",
    "        return array\n",
    "        \n",
    "    def check(self, h, l, o, a):\n",
    "        if a[h] != 0:\n",
    "            return False\n",
    "        if o == 0:\n",
    "            end = h+(l-1)\n",
    "            if (h - (h%10)) != (end - (end%10)):\n",
    "                return False\n",
    "            for i in range(l):\n",
    "                if a[h+i] != 0:\n",
    "                    return False\n",
    "        elif o == 1:\n",
    "            end = h - 10*(l-1)\n",
    "            if end < 0:\n",
    "                return False\n",
    "            for i in range(l):\n",
    "                if a[h - 10*i] != 0:\n",
    "                    return False\n",
    "        elif o == 2:\n",
    "            end = h-(l-1)\n",
    "            if (h - (h%10)) != (end - (end%10)):\n",
    "                return False\n",
    "            for i in range(l):\n",
    "                if a[h-i] != 0:\n",
    "                    return False\n",
    "        elif o == 3:\n",
    "            end = h + 10*(l-1)\n",
    "            if end > 99:\n",
    "                return False\n",
    "            for i in range(l):\n",
    "                if a[h + 10*i] != 0:\n",
    "                    return False\n",
    "        return True\n",
    "    \n",
    "    def put(self, h, l, o, a):\n",
    "        if o == 0:\n",
    "            for i in range(l):\n",
    "                a[h+i] = 1\n",
    "        elif o == 1:\n",
    "            for i in range(l):\n",
    "                a[h-10*i] = 1\n",
    "        elif o == 2:\n",
    "            for i in range(l):\n",
    "                a[h-i] = 1\n",
    "        elif o == 3:\n",
    "            for i in range(l):\n",
    "                a[h+10*i] = 1\n",
    "        return a"
   ]
  },
  {
   "cell_type": "code",
   "execution_count": 49,
   "metadata": {},
   "outputs": [
    {
     "name": "stdout",
     "output_type": "stream",
     "text": [
      "1\n",
      "0\n",
      "0\n",
      "3\n",
      "2\n",
      "[0, 0, 0, 0, 0, 0, 0, 0, 0, 0, 0, 0, 0, 0, 0, 0, 0, 0, 0, 0, 0, 0, 0, 0, 0, 0, 0, 0, 0, 0, 0, 0, 0, 0, 0, 0, 0, 0, 0, 0, 1, 0, 1, 1, 1, 1, 0, 1, 1, 1, 1, 0, 0, 1, 0, 0, 0, 0, 0, 0, 1, 1, 1, 1, 0, 0, 0, 0, 0, 0, 0, 0, 0, 1, 0, 0, 0, 0, 0, 0, 0, 0, 0, 1, 0, 0, 0, 0, 0, 0, 0, 0, 0, 1, 0, 0, 0, 0, 0, 0]\n"
     ]
    }
   ],
   "source": [
    "q = Board()\n",
    "a = q.place()\n",
    "print(a)"
   ]
  },
  {
   "cell_type": "markdown",
   "metadata": {},
   "source": [
    "0, 1, 2, 3, 4, 5, 6, 7, 8, 9,\n",
    "\n",
    "0, 0, 0, 0, 0, 0, 0, 0, 0, 0, 0, 0, 0, 0, 0, 0, 0, 0, 0, 0, 0, 0, 0, 0, 0, 0, 0, 0, 0, 0, 0, 0, 0, 0, 0, 0, 0, 0, 0, 0, 1, 0, 1, 1, 1, 1, 0, 1, 1, 1, 1, 0, 0, 1, 0, 0, 0, 0, 0, 0, 1, 1, 1, 1, 0, 0, 0, 0, 0, 0, 0, 0, 0, 1, 0, 0, 0, 0, 0, 0, 0, 0, 0, 1, 0, 0, 0, 0, 0, 0, 0, 0, 0, 1, 0, 0, 0, 0, 0, 0"
   ]
  },
  {
   "cell_type": "code",
   "execution_count": null,
   "metadata": {},
   "outputs": [],
   "source": []
  }
 ],
 "metadata": {
  "kernelspec": {
   "display_name": "Python 3",
   "language": "python",
   "name": "python3"
  },
  "language_info": {
   "codemirror_mode": {
    "name": "ipython",
    "version": 3
   },
   "file_extension": ".py",
   "mimetype": "text/x-python",
   "name": "python",
   "nbconvert_exporter": "python",
   "pygments_lexer": "ipython3",
   "version": "3.7.4"
  }
 },
 "nbformat": 4,
 "nbformat_minor": 2
}
