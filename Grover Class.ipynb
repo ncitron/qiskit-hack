{
 "cells": [
  {
   "cell_type": "code",
   "execution_count": 65,
   "metadata": {},
   "outputs": [],
   "source": [
    "class QuantComp:\n",
    "    def __init__(self, classical):\n",
    "        self.classical = classical\n",
    "        \n",
    "    def convert(self, cboard):\n",
    "        ret = []\n",
    "        for i in range(len(cboard)):\n",
    "            if cboard[i] == 1:\n",
    "                hold = str(bin(i).replace(\"0b\",\"\"))\n",
    "                while(len(hold) < 7):\n",
    "                    hold = '0' + hold\n",
    "                ret.append(hold)\n",
    "        return ret\n",
    "    \n",
    "    def setup(self, array):\n",
    "        tot = len(array)\n",
    "        n = 7\n",
    "        s = []\n",
    "        for i in range(n-1):\n",
    "            s.append(i)\n",
    "        if tot > 8:\n",
    "            rep = 2\n",
    "        elif tot > 4:\n",
    "            rep = 3\n",
    "        elif tot == 4:\n",
    "            rep = 4\n",
    "        elif tot == 3:\n",
    "            rep = 5\n",
    "        elif tot == 2:\n",
    "            rep = 6\n",
    "        else:\n",
    "            rep = 8\n",
    "        return rep, n, tot, s\n",
    "        \n",
    "    def build_oracle(self, circuit, solutions, n, tot, s):\n",
    "        for i in range(tot):\n",
    "            temp = solutions[i]\n",
    "            for j, yesno in enumerate(reversed(temp)):\n",
    "                if yesno == '0':\n",
    "                    circuit.x(j)\n",
    "            circuit.h(n-1)\n",
    "            circuit.mct(s, n-1)\n",
    "            circuit.h(n-1)\n",
    "            for k, noyes in enumerate(reversed(temp)):\n",
    "                if noyes == '0':\n",
    "                    circuit.x(k)\n",
    "                    \n",
    "    def amplify(self, circuit, n, s):\n",
    "        circuit.h(range(n))\n",
    "        circuit.x(range(n))\n",
    "        circuit.h(n-1)\n",
    "        circuit.mct(s, n-1)\n",
    "        circuit.h(n-1)\n",
    "        circuit.x(range(n))\n",
    "        circuit.h(range(n))\n",
    "        \n",
    "    def guess(self):\n",
    "        sol = self.convert(self.classical)\n",
    "        rep, n, tot, s = self.setup(sol)\n",
    "        qc = QuantumCircuit(n)\n",
    "        qc.h(range(n))\n",
    "        for i in range(rep):\n",
    "            self.build_oracle(qc, sol, n, tot, s)\n",
    "            self.amplify(qc, n, s)\n",
    "        qc.measure_all()\n",
    "        simulator = Aer.get_backend('qasm_simulator')\n",
    "        stng = list(execute(qc, backend = simulator, shots = 1).result().get_counts().keys())[0]\n",
    "        print(int(stng, 2))"
   ]
  },
  {
   "cell_type": "code",
   "execution_count": 15,
   "metadata": {},
   "outputs": [],
   "source": [
    "from qiskit import *"
   ]
  },
  {
   "cell_type": "code",
   "execution_count": 69,
   "metadata": {},
   "outputs": [
    {
     "name": "stdout",
     "output_type": "stream",
     "text": [
      "20\n"
     ]
    }
   ],
   "source": [
    "## Takes in a 1-D array of positions and spits out an index to guess\n",
    "one = [0,0,1,0,0,0,0,1,0,0,\n",
    "       0,0,1,0,1,1,1,1,0,0,\n",
    "       1,0,1,0,0,0,0,0,0,0,\n",
    "       1,0,0,0,0,0,0,0,0,0,\n",
    "       1,0,0,0,0,0,0,0,0,0,\n",
    "       1,0,0,0,0,0,0,0,0,0,\n",
    "       0,0,0,0,0,0,0,0,0,0,\n",
    "       0,0,0,1,1,1,1,1,0,0]\n",
    "two = QuantComp(one)\n",
    "two.guess()"
   ]
  },
  {
   "cell_type": "code",
   "execution_count": null,
   "metadata": {},
   "outputs": [],
   "source": []
  }
 ],
 "metadata": {
  "kernelspec": {
   "display_name": "Python 3",
   "language": "python",
   "name": "python3"
  },
  "language_info": {
   "codemirror_mode": {
    "name": "ipython",
    "version": 3
   },
   "file_extension": ".py",
   "mimetype": "text/x-python",
   "name": "python",
   "nbconvert_exporter": "python",
   "pygments_lexer": "ipython3",
   "version": "3.7.4"
  }
 },
 "nbformat": 4,
 "nbformat_minor": 2
}
