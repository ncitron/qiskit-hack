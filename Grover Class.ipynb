{
 "cells": [
  {
   "cell_type": "code",
   "execution_count": 38,
   "metadata": {},
   "outputs": [],
   "source": [
    "class QuantComp:\n",
    "    def __init__(qboard, classical):\n",
    "        qboard.classical = classical\n",
    "        \n",
    "    def convert(cboard):\n",
    "        ret = []\n",
    "        for i in range(len(cboard)):\n",
    "            if cboard[i] == 1:\n",
    "                hold = str(bin(i))\n",
    "                while(len(hold) < 7):\n",
    "                    hold = '0' + hold\n",
    "                ret.append(hold)\n",
    "        return ret\n",
    "    \n",
    "    def setup(array):\n",
    "        tot = len(array)\n",
    "        n = 7\n",
    "        s = []\n",
    "        for i in range(n-1):\n",
    "            s.append(i)\n",
    "        if tot > 8:\n",
    "            rep = 2\n",
    "        elif tot > 4:\n",
    "            rep = 3\n",
    "        elif tot == 4:\n",
    "            rep = 4\n",
    "        elif tot == 3:\n",
    "            rep = 5\n",
    "        elif tot == 2:\n",
    "            rep = 6\n",
    "        else:\n",
    "            rep = 8\n",
    "        return rep, n\n",
    "        \n",
    "    def build_oracle(circuit, solutions, n):\n",
    "        for i in range(tot):\n",
    "            temp = solutions[i]\n",
    "            for j, yesno in enumerate(reversed(temp)):\n",
    "                if yesno == '0':\n",
    "                    circuit.x(j)\n",
    "            circuit.h(n-1)\n",
    "            circuit.mct(s, n-1)\n",
    "            circuit.h(n-1)\n",
    "            for k, noyes in enumerate(reversed(temp)):\n",
    "                if noyes == '0':\n",
    "                    circuit.x(k)\n",
    "                    \n",
    "    def amplify(circuit, n):\n",
    "        circuit.h(range(n))\n",
    "        circuit.x(range(n))\n",
    "        circuit.h(n-1)\n",
    "        circuit.mct(s, n-1)\n",
    "        circuit.h(n-1)\n",
    "        circuit.x(range(n))\n",
    "        circuit.h(range(n))\n",
    "        \n",
    "    def guess(qboard):\n",
    "        sol = convert(qboard.classical)\n",
    "        rep, n = setup(sol)\n",
    "        qc = QuantumCircuit(n)\n",
    "        qc.h(range(n))\n",
    "        for i in range(rep):\n",
    "            build_oracle(qc, sol, n)\n",
    "            amplify(qc, n)\n",
    "        qc.measure_all()\n",
    "        simulator = Aer.get_backend('qasm_simulator')\n",
    "        return execute(qc, backend = simulator, shots = 1).result().get_counts()"
   ]
  },
  {
   "cell_type": "code",
   "execution_count": 39,
   "metadata": {},
   "outputs": [],
   "source": [
    "q = QuantComp([0,0,0,0,0,1])"
   ]
  },
  {
   "cell_type": "code",
   "execution_count": 40,
   "metadata": {},
   "outputs": [
    {
     "ename": "NameError",
     "evalue": "name 'convert' is not defined",
     "output_type": "error",
     "traceback": [
      "\u001b[0;31m---------------------------------------------------------------------------\u001b[0m",
      "\u001b[0;31mNameError\u001b[0m                                 Traceback (most recent call last)",
      "\u001b[0;32m<ipython-input-40-89fd2acf8030>\u001b[0m in \u001b[0;36m<module>\u001b[0;34m\u001b[0m\n\u001b[0;32m----> 1\u001b[0;31m \u001b[0mq\u001b[0m\u001b[0;34m.\u001b[0m\u001b[0mguess\u001b[0m\u001b[0;34m(\u001b[0m\u001b[0;34m)\u001b[0m\u001b[0;34m\u001b[0m\u001b[0;34m\u001b[0m\u001b[0m\n\u001b[0m",
      "\u001b[0;32m<ipython-input-38-89c2a036b510>\u001b[0m in \u001b[0;36mguess\u001b[0;34m(qboard)\u001b[0m\n\u001b[1;32m     56\u001b[0m \u001b[0;34m\u001b[0m\u001b[0m\n\u001b[1;32m     57\u001b[0m     \u001b[0;32mdef\u001b[0m \u001b[0mguess\u001b[0m\u001b[0;34m(\u001b[0m\u001b[0mqboard\u001b[0m\u001b[0;34m)\u001b[0m\u001b[0;34m:\u001b[0m\u001b[0;34m\u001b[0m\u001b[0;34m\u001b[0m\u001b[0m\n\u001b[0;32m---> 58\u001b[0;31m         \u001b[0msol\u001b[0m \u001b[0;34m=\u001b[0m \u001b[0mconvert\u001b[0m\u001b[0;34m(\u001b[0m\u001b[0mqboard\u001b[0m\u001b[0;34m.\u001b[0m\u001b[0mclassical\u001b[0m\u001b[0;34m)\u001b[0m\u001b[0;34m\u001b[0m\u001b[0;34m\u001b[0m\u001b[0m\n\u001b[0m\u001b[1;32m     59\u001b[0m         \u001b[0mrep\u001b[0m\u001b[0;34m,\u001b[0m \u001b[0mn\u001b[0m \u001b[0;34m=\u001b[0m \u001b[0msetup\u001b[0m\u001b[0;34m(\u001b[0m\u001b[0msol\u001b[0m\u001b[0;34m)\u001b[0m\u001b[0;34m\u001b[0m\u001b[0;34m\u001b[0m\u001b[0m\n\u001b[1;32m     60\u001b[0m         \u001b[0mqc\u001b[0m \u001b[0;34m=\u001b[0m \u001b[0mQuantumCircuit\u001b[0m\u001b[0;34m(\u001b[0m\u001b[0mn\u001b[0m\u001b[0;34m)\u001b[0m\u001b[0;34m\u001b[0m\u001b[0;34m\u001b[0m\u001b[0m\n",
      "\u001b[0;31mNameError\u001b[0m: name 'convert' is not defined"
     ]
    }
   ],
   "source": [
    "q.guess()"
   ]
  },
  {
   "cell_type": "code",
   "execution_count": null,
   "metadata": {},
   "outputs": [],
   "source": []
  },
  {
   "cell_type": "code",
   "execution_count": null,
   "metadata": {},
   "outputs": [],
   "source": []
  },
  {
   "cell_type": "code",
   "execution_count": null,
   "metadata": {},
   "outputs": [],
   "source": []
  },
  {
   "cell_type": "code",
   "execution_count": null,
   "metadata": {},
   "outputs": [],
   "source": []
  },
  {
   "cell_type": "code",
   "execution_count": null,
   "metadata": {},
   "outputs": [],
   "source": []
  }
 ],
 "metadata": {
  "kernelspec": {
   "display_name": "Python 3",
   "language": "python",
   "name": "python3"
  },
  "language_info": {
   "codemirror_mode": {
    "name": "ipython",
    "version": 3
   },
   "file_extension": ".py",
   "mimetype": "text/x-python",
   "name": "python",
   "nbconvert_exporter": "python",
   "pygments_lexer": "ipython3",
   "version": "3.7.7"
  }
 },
 "nbformat": 4,
 "nbformat_minor": 2
}
