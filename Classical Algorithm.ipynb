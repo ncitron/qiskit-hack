{
 "cells": [
  {
   "cell_type": "code",
   "execution_count": 2,
   "metadata": {},
   "outputs": [],
   "source": [
    "from random import randint"
   ]
  },
  {
   "cell_type": "code",
   "execution_count": 34,
   "metadata": {},
   "outputs": [],
   "source": [
    "class clAssComp:\n",
    "    def __init__(self, player):\n",
    "        self.player = player\n",
    "        self.hunt = True\n",
    "        self.last = -1;\n",
    "        self.grid = [0,1,0,1,0,1,0,1,0,1,\n",
    "                     1,0,1,0,1,0,1,0,1,0,\n",
    "                     0,1,0,1,0,1,0,1,0,1,\n",
    "                     1,0,1,0,1,0,1,0,1,0,\n",
    "                     0,1,0,1,0,1,0,1,0,1,\n",
    "                     1,0,1,0,1,0,1,0,1,0,\n",
    "                     0,1,0,1,0,1,0,1,0,1,\n",
    "                     1,0,1,0,1,0,1,0,1,0,\n",
    "                     0,1,0,1,0,1,0,1,0,1,\n",
    "                     1,0,1,0,1,0,1,0,1,0]\n",
    "    \n",
    "    def hit(self, index):\n",
    "        if self.hunt:\n",
    "            self.hunt = False\n",
    "        self.grid[index] = 3\n",
    "        self.last = index\n",
    "        \n",
    "    def miss(self, index):\n",
    "        self.grid[index] = 2\n",
    "        \n",
    "    def sunk(self):\n",
    "        self.hunt = True\n",
    "    \n",
    "    def search(self, index):\n",
    "        top = -1\n",
    "        right = -1\n",
    "        bottom = -1\n",
    "        left = -1\n",
    "        if index > 9:\n",
    "            top = self.grid[index - 10]\n",
    "        if index%10 < 9:\n",
    "            right = self.grid[index + 1]\n",
    "        if index < 90:\n",
    "            bottom = self.grid[index + 10]\n",
    "        if index%10 > 0:\n",
    "            left = self.grid[index - 1]\n",
    "        if top == 3 & (bottom == 1 | bottom == 0):\n",
    "            return index + 10\n",
    "        if right == 3 & (left == 1 | left == 0):\n",
    "            return index - 1\n",
    "        if bottom == 3 & (top == 1 | top == 0):\n",
    "            return index - 10\n",
    "        if left == 3 & (right == 1 | right == 0):\n",
    "            return index + 1\n",
    "        if top == 0 | top == 1:\n",
    "            return index - 10\n",
    "        if right == 0 | right == 1:\n",
    "            return index + 1\n",
    "        if bottom == 0 | bottom == 1:\n",
    "            return index + 10\n",
    "        if left == 0 | left == 1:\n",
    "            return index - 1\n",
    "        if top == 3:\n",
    "            while bottom == 3:\n",
    "                bottom = self.grid[index + 10]\n",
    "            if bottom == 0 | bottom == 1:\n",
    "                return index + 10\n",
    "        if left == 3:\n",
    "            while right == 3:\n",
    "                right = self.grid[index + 1]\n",
    "            if right == 0 | right == 1:\n",
    "                return index + 1\n",
    "        if right == 3:\n",
    "            while left == 3:\n",
    "                left = self.grid[index - 1]\n",
    "            if left == 0 | left == 1:\n",
    "                return index - 1\n",
    "        if bottom == 3:\n",
    "            while top == 3:\n",
    "                top = self.grid[index - 10]\n",
    "            if top == 0 | top == 1:\n",
    "                return index - 10\n",
    "        \n",
    "    def update(self, index):\n",
    "        if self.player[index] == 0:\n",
    "            self.miss(index)\n",
    "        else:\n",
    "            self.hit(index)\n",
    "    \n",
    "    def guess(self):\n",
    "        if self.hunt:\n",
    "            while True:\n",
    "                rand = randint(0,98)\n",
    "                if self.grid[rand] == 0:\n",
    "                    self.update(rand)\n",
    "                    return rand\n",
    "        new = self.search(self.last)\n",
    "        self.update(new)\n",
    "        return new"
   ]
  },
  {
   "cell_type": "code",
   "execution_count": 35,
   "metadata": {},
   "outputs": [],
   "source": [
    "one = [0,0,1,0,0,0,0,1,0,0,\n",
    "       0,0,1,0,1,1,1,1,0,0,\n",
    "       1,0,1,0,0,0,0,0,0,0,\n",
    "       1,0,0,0,0,0,0,0,0,0,\n",
    "       1,0,0,0,0,0,0,0,0,0,\n",
    "       1,0,0,0,0,0,0,0,0,0,\n",
    "       0,0,0,0,0,0,0,0,0,0,\n",
    "       0,0,0,1,1,1,1,1,0,0,\n",
    "       0,0,0,0,0,0,0,0,0,0,\n",
    "       0,0,0,0,0,0,0,0,0,0]\n",
    "two = clAssComp(one)"
   ]
  },
  {
   "cell_type": "code",
   "execution_count": 41,
   "metadata": {},
   "outputs": [
    {
     "data": {
      "text/plain": [
       "26"
      ]
     },
     "execution_count": 41,
     "metadata": {},
     "output_type": "execute_result"
    }
   ],
   "source": [
    "two.guess()"
   ]
  },
  {
   "cell_type": "code",
   "execution_count": 40,
   "metadata": {},
   "outputs": [],
   "source": [
    "two.sunk()"
   ]
  },
  {
   "cell_type": "code",
   "execution_count": null,
   "metadata": {},
   "outputs": [],
   "source": []
  }
 ],
 "metadata": {
  "kernelspec": {
   "display_name": "Python 3",
   "language": "python",
   "name": "python3"
  },
  "language_info": {
   "codemirror_mode": {
    "name": "ipython",
    "version": 3
   },
   "file_extension": ".py",
   "mimetype": "text/x-python",
   "name": "python",
   "nbconvert_exporter": "python",
   "pygments_lexer": "ipython3",
   "version": "3.7.4"
  }
 },
 "nbformat": 4,
 "nbformat_minor": 2
}
